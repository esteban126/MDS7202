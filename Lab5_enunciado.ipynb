{
 "cells": [
  {
   "cell_type": "markdown",
   "metadata": {
    "id": "_Tgm8mCA9Dp3"
   },
   "source": [
    "# Laboratorio 5: Clasificación 🤗\n",
    "\n",
    "<center><strong>MDS7202: Laboratorio de Programación Científica para Ciencia de Datos - Primavera 2024</strong></center>\n"
   ]
  },
  {
   "cell_type": "markdown",
   "metadata": {
    "id": "11Kc_ibM9GXH"
   },
   "source": [
    "### Cuerpo Docente:\n",
    "\n",
    "- Profesores: Stefano Schiappacasse, Sebastián Tinoco\n",
    "- Auxiliares: Melanie Peña, Valentina Rojas\n",
    "- Ayudantes: Angelo Muñoz, Valentina Zúñiga"
   ]
  },
  {
   "cell_type": "markdown",
   "metadata": {
    "id": "u9dUSltr9JrN"
   },
   "source": [
    "### Equipo: SUPER IMPORTANTE - notebooks sin nombre no serán revisados\n",
    "\n",
    "- Esteban Rojas"
   ]
  },
  {
   "cell_type": "markdown",
   "metadata": {
    "id": "pC1IloytrsAx"
   },
   "source": [
    "### **Link de repositorio de GitHub:** https://github.com/esteban126/MDS7202"
   ]
  },
  {
   "cell_type": "markdown",
   "metadata": {
    "id": "YBa48PDF9OHw"
   },
   "source": [
    "### Temas a tratar\n",
    "- Clasificación en problemas desbalanceados\n",
    "- Lightgbm y xgboost\n",
    "- Pipelines"
   ]
  },
  {
   "cell_type": "markdown",
   "metadata": {
    "id": "mkhnnMx49Qrh"
   },
   "source": [
    "## Reglas:\n",
    "\n",
    "- **Grupos de 2 personas**\n",
    "- Fecha de entrega: 6 días de plazo con descuento de 1 punto por día. Entregas Martes a las 23:59.\n",
    "- Instrucciones del lab el viernes a las 16:15 en formato online. Asistencia no es obligatoria, pero se recomienda fuertemente asistir.\n",
    "- <u>Prohibidas las copias</u>. Cualquier intento de copia será debidamente penalizado con el reglamento de la escuela.\n",
    "- Tienen que subir el laboratorio a u-cursos y a su repositorio de github. Labs que no estén en u-cursos no serán revisados. Recuerden que el repositorio también tiene nota.\n",
    "- Cualquier duda fuera del horario de clases al foro. Mensajes al equipo docente serán respondidos por este medio.\n",
    "- Pueden usar cualquier material del curso que estimen conveniente.\n"
   ]
  },
  {
   "cell_type": "markdown",
   "metadata": {
    "id": "sxzJ48Vv8quO"
   },
   "source": [
    "\n",
    "\n",
    "### Objetivos principales del laboratorio\n",
    "- Comprender cómo trabajar con problemas de clasificación con clases desbalanceadas.\n",
    "- Aplicar los modelos lightgbm y xgboost.\n",
    "- Practicar Pipelines"
   ]
  },
  {
   "cell_type": "markdown",
   "metadata": {
    "id": "k-ao0mOU64Ru"
   },
   "source": [
    "# Parte Teórica [12 puntos]\n",
    "\n",
    "\n"
   ]
  },
  {
   "cell_type": "markdown",
   "metadata": {
    "id": "ApXKwPDmxcEV"
   },
   "source": [
    "1. Explique cuál es la diferencia entre los datos de entrenamiento y validación. [1 punto]\n",
    "\n",
    "2. Explique cuál es el principal desafío al trabajar problemas de clasificación con data no supervisada. [1 punto]\n",
    "\n",
    "3. Explique en **sus palabras** qué es la matriz de confusión y para qué se utiliza. [1 puntos]\n",
    "\n",
    "4. Escriba la fórmula de las siguientes métricas y explique con **sus palabras** cómo se interpretan. [1 punto cada uno]\n",
    "\n",
    "  * Accuracy\n",
    "  * Precision\n",
    "  * Recall\n",
    "  * F1 score\n",
    "\n",
    "5. Explique qué métrica recomendaría para los siguientes contextos de clasificación. [1 punto cada uno]\n",
    "\n",
    "  * Mantenimiento predictivo de fallas de maquinaria pesada en la industria minera.  \n",
    "  * Detección de enfermedades altamente contagiosas.\n",
    "  * Aprobación de créditos de alto riesgo.\n",
    "  * Detección de crímenes.\n",
    "\n",
    "6. Explique qué es la calibración de modelos y para qué se usa. [1 punto]\n"
   ]
  },
  {
   "cell_type": "markdown",
   "metadata": {
    "id": "Yy4QMWD8-FPk"
   },
   "source": [
    "**Respuesta:**"
   ]
  },
  {
   "cell_type": "markdown",
   "metadata": {
    "id": "QYFdD1aK-ICa"
   },
   "source": [
    "*Escriba su respuesta aquí*"
   ]
  },
  {
   "cell_type": "markdown",
   "metadata": {
    "id": "Jg_9jBqtgRDO"
   },
   "source": [
    "# Parte práctica [48 puntos]"
   ]
  },
  {
   "cell_type": "markdown",
   "metadata": {
    "id": "slm6yRfdfZwS"
   },
   "source": [
    "<p align=\"center\">\n",
    "  <img src=\"https://drive.google.com/uc?export=view&id=1BnO4tyh3vM2P199Ec9s3JjngQ4qQ9seP\"\n",
    "\" width=\"300\">\n",
    "</p>\n",
    "\n",
    "\n",
    "Tras el trágico despido de la mítica mascota de Maipú, Renacín decide adentrarse como consultor en el mercado futbolero, el cuál (para variar...) está cargado en especulaciones.\n",
    "\n",
    "Como su principal tarea será asesorar a los directivos de los clubes sobre cuál jugador comprar y cuál no, Renacín desea generar modelos predictivos que evaluén distintas características de los jugadores; todo con el fin de tomar decisiones concretas basadas en los datos.\n",
    "\n",
    "Sin embargo, su condición de corporeo le impidió tomar la versión anterior de MDS7202, por lo que este motivo Renacín contrata a su equipo para lograr su objetivo final. Dado que aún tiene fuertes vínculos con la dirección de deportes de la municipalidad, el corporeo le entrega base de datos con las estadísticas de cada jugador para que su equipo empieze a trabajar ya con un dataset listo para ser usado.\n"
   ]
  },
  {
   "cell_type": "markdown",
   "metadata": {
    "id": "jnbx7RwHfkue"
   },
   "source": [
    "**Los Datos**\n",
    "\n",
    "Para este laboratorio deberán trabajar con el csv `statsplayers.csv`, donde deberán aplicar algoritmos de aprendizaje supervisado de clasificación en base a características que describen de jugadores de fútbol.\n",
    "\n",
    "Para comenzar cargue el dataset señalado y a continuación vea el reporte **`Player_Stats_Report.html`** (adjunto en la carpeta del enunciado) que describe las características principales del `DataFrame`."
   ]
  },
  {
   "cell_type": "code",
   "execution_count": 1,
   "metadata": {
    "id": "mX6iwOWUfrp_"
   },
   "outputs": [],
   "source": [
    "# Si usted está utilizando Colabolatory le puede ser útil este código para cargar los archivos.\n",
    "# try:\n",
    "#     from google.colab import drive\n",
    "#     drive.mount(\"/content/drive\")\n",
    "#     path = 'Dirección donde tiene los archivos en el Drive'\n",
    "# except:\n",
    "#     print('Ignorando conexión drive-colab')"
   ]
  },
  {
   "cell_type": "markdown",
   "metadata": {
    "id": "JdcucZhp-M_0"
   },
   "source": [
    "## 1. Predicción de Seleccionados Nacionales [14 puntos]"
   ]
  },
  {
   "cell_type": "markdown",
   "metadata": {
    "id": "HXrewqxjjzvA"
   },
   "source": [
    "<p align=\"center\">\n",
    "  <img src=\"https://www.futuro.cl/wp-content/uploads/2016/06/chile-argentina-meme-12.jpg\" width=\"300\">\n",
    "</p>\n",
    "\n"
   ]
  },
  {
   "cell_type": "markdown",
   "metadata": {
    "id": "Qfre1YsSDqla"
   },
   "source": [
    "### 1.1 Preprocesamiento [5 puntos]"
   ]
  },
  {
   "cell_type": "markdown",
   "metadata": {
    "id": "IR00u4HTDtxv"
   },
   "source": [
    "Tareas:\n",
    "\n",
    "1. Genere los labels para la clasificación binaria en una variable llamada `label`. Para esto, trabaje sobre el atributo `National_Position` suponiendo que los valores nulos son jugadores no seleccionados para representar a su país. [Sin puntaje]\n",
    "\n",
    "2. Hecho esto, ¿cuántos se tienen ejemplos por cada clase? Comente lo que observa. [1 punto]\n",
    "\n",
    "3. Genere un `ColumnTransformer` en donde especifique las transformaciones que hay que realizar para cada columna (por ejemplo StandarScaler, MinMaxScaler, OneHotEncoder, etc...) para que puedan ser utilizadas correctamente por el modelo predictivo y guárdelo una variable llamada `col_transformer`. [2 puntos]\n",
    "\n",
    "4. Comente y justifique las transformaciones elegidas sobre cada una de las variables (para esto utilice el material `Player_Stats_Report.html` que viene en el zip del lab), al igual que las transformaciones aplicadas. [2 puntos]"
   ]
  },
  {
   "cell_type": "markdown",
   "metadata": {
    "id": "tgAk0kbPjEsx"
   },
   "source": [
    "**Respuesta:**"
   ]
  },
  {
   "cell_type": "code",
   "execution_count": 2,
   "metadata": {
    "id": "JhC2sZj9dSI1"
   },
   "outputs": [
    {
     "data": {
      "text/plain": [
       "label\n",
       "0    16513\n",
       "1     1075\n",
       "Name: count, dtype: int64"
      ]
     },
     "execution_count": 2,
     "metadata": {},
     "output_type": "execute_result"
    }
   ],
   "source": [
    "import pandas as pd\n",
    "\n",
    "df = pd.read_csv('stats_players.csv')\n",
    "df['label'] = df['National_Position'].notnull().astype(int)\n",
    "df['label'].value_counts()"
   ]
  },
  {
   "cell_type": "code",
   "execution_count": 3,
   "metadata": {},
   "outputs": [],
   "source": [
    "cat_cols = df.select_dtypes(include=['object', 'category']).drop(columns=['National_Position','label'], errors='ignore').columns\n",
    "num_cols = df.select_dtypes(include=['float64', 'int64']).drop(columns=['National_Position','label'], errors='ignore').columns"
   ]
  },
  {
   "cell_type": "code",
   "execution_count": 4,
   "metadata": {},
   "outputs": [],
   "source": [
    "from sklearn.compose import ColumnTransformer\n",
    "from sklearn.preprocessing import OneHotEncoder, StandardScaler\n",
    "from sklearn.impute import SimpleImputer\n",
    "from sklearn.pipeline import Pipeline\n",
    "\n",
    "# Definimos grupos de columnas\n",
    "numeric_features = num_cols\n",
    "categorical_features = cat_cols\n",
    "\n",
    "numerical_transformer = Pipeline(steps=[\n",
    "    ('imputer', SimpleImputer(strategy='median')),\n",
    "    ('scaler', StandardScaler())\n",
    "])\n",
    "\n",
    "categorical_transformer = Pipeline(steps=[\n",
    "    ('imputer', SimpleImputer(strategy='constant', fill_value='missing')),\n",
    "    ('encoder', OneHotEncoder(handle_unknown='ignore'))\n",
    "])\n",
    "\n",
    "col_transformer = ColumnTransformer(transformers=[\n",
    "    ('num', numerical_transformer, numeric_features),\n",
    "    ('cat', categorical_transformer, categorical_features)\n",
    "])"
   ]
  },
  {
   "cell_type": "markdown",
   "metadata": {},
   "source": [
    " Numéricas (StandardScaler)\n",
    "* Variables como Height, Weight, Age, y estadísticas como Agility, Finishing, etc., tienen escalas distintas.\n",
    "\n",
    "* Se aplica escalado estándar (media 0, varianza 1) porque:\n",
    "\n",
    "* Mejora la performance de muchos modelos (SVM, regresión logística, redes neuronales).\n",
    "\n",
    "* Permite que todas las variables contribuyan equitativamente.\n",
    "\n",
    "✅ Categóricas (OneHotEncoder)\n",
    "\n",
    "* Columnas como Nationality, Club_Position, Preffered_Foot son categóricas nominales (sin orden natural).\n",
    "\n",
    "* OneHotEncoder crea una columna binaria para cada categoría, lo que es adecuado para algoritmos lineales y de árbol.\n",
    "\n",
    "✅ Imputación\n",
    "\n",
    "* En datos reales hay valores faltantes.\n",
    "\n",
    "* Para numéricos, se usa la mediana, robusta a outliers.\n",
    "\n",
    "* Para categóricos, se reemplaza con 'missing'.\n",
    "\n",
    "\n"
   ]
  },
  {
   "cell_type": "markdown",
   "metadata": {
    "id": "Bv1HOfcNEPF4"
   },
   "source": [
    "### 1.2 Entrenamiento [3 puntos]"
   ]
  },
  {
   "cell_type": "markdown",
   "metadata": {
    "id": "whPkuXTUBvB0"
   },
   "source": [
    "Ahora, vamos a entrenar los pipelines generados en los pasos anteriores. Para esto, debe realizar las siguientes tareas:\n",
    "\n",
    "1. Separe los datos de entrenamiento en un conjunto de entrenamiento y de prueba  (la proporción queda a su juicio). En este paso, seleccione los ejemplos de forma aleatoria e intente mantener la distribución original de labels de cada clase en los conjuntos de prueba/entrenamiento. (vea la documentación de `train_test_split`). [1 puntos]\n",
    "\n",
    "\n",
    "2. Defina un pipeline llamado `pipeline_xgboost` y otro llamado `pipeline_lightgbm`. Estos pipelines deben tener el mismo ColumnTransformer definido en la sección de preprocesamiento, pero deben variar los clasificadores de acuerdo al nombre de cada pipeline. [1 puntos]\n",
    "\n",
    "3. Entrene los pipelines. [1 punto]\n",
    "\n"
   ]
  },
  {
   "cell_type": "markdown",
   "metadata": {
    "id": "kbadONFtjGnE"
   },
   "source": [
    "**Respuesta:**"
   ]
  },
  {
   "cell_type": "code",
   "execution_count": 5,
   "metadata": {
    "id": "lLtlXGTPdWAV"
   },
   "outputs": [],
   "source": [
    "from sklearn.model_selection import train_test_split\n",
    "\n",
    "# Variables\n",
    "X = df.drop(columns=['label', 'National_Position'])  # quitamos la label y National_Position\n",
    "y = df['label']\n",
    "\n",
    "# Separar en train y test (ej: 80% train, 20% test)\n",
    "X_train, X_test, y_train, y_test = train_test_split(\n",
    "    X, y, \n",
    "    test_size=0.2, \n",
    "    stratify=y,   # estratificamos para que mantenga la proporción de clases\n",
    "    random_state=42  # para que sea reproducible\n",
    ")"
   ]
  },
  {
   "cell_type": "code",
   "execution_count": 6,
   "metadata": {},
   "outputs": [],
   "source": [
    "from sklearn.pipeline import Pipeline\n",
    "from xgboost import XGBClassifier\n",
    "from lightgbm import LGBMClassifier\n",
    "\n",
    "# Pipeline con XGBoost\n",
    "pipeline_xgboost = Pipeline(steps=[\n",
    "    ('preprocessor', col_transformer),\n",
    "    ('classifier', XGBClassifier(use_label_encoder=False, eval_metric='logloss', random_state=42))\n",
    "])\n",
    "\n",
    "# Pipeline con LightGBM\n",
    "pipeline_lightgbm = Pipeline(steps=[\n",
    "    ('preprocessor', col_transformer),\n",
    "    ('classifier', LGBMClassifier(random_state=42))\n",
    "])\n"
   ]
  },
  {
   "cell_type": "code",
   "execution_count": 7,
   "metadata": {},
   "outputs": [
    {
     "name": "stderr",
     "output_type": "stream",
     "text": [
      "C:\\Users\\erojasm\\Anaconda3\\Lib\\site-packages\\xgboost\\training.py:183: UserWarning: [22:05:55] WARNING: C:\\actions-runner\\_work\\xgboost\\xgboost\\src\\learner.cc:738: \n",
      "Parameters: { \"use_label_encoder\" } are not used.\n",
      "\n",
      "  bst.update(dtrain, iteration=i, fobj=obj)\n"
     ]
    },
    {
     "name": "stdout",
     "output_type": "stream",
     "text": [
      "[LightGBM] [Info] Number of positive: 860, number of negative: 13210\n",
      "[LightGBM] [Info] Auto-choosing row-wise multi-threading, the overhead of testing was 0.001228 seconds.\n",
      "You can set `force_row_wise=true` to remove the overhead.\n",
      "And if memory is not enough, you can set `force_col_wise=true`.\n",
      "[LightGBM] [Info] Total Bins 2676\n",
      "[LightGBM] [Info] Number of data points in the train set: 14070, number of used features: 142\n",
      "[LightGBM] [Info] [binary:BoostFromScore]: pavg=0.061123 -> initscore=-2.731797\n",
      "[LightGBM] [Info] Start training from score -2.731797\n"
     ]
    },
    {
     "data": {
      "text/html": [
       "<style>#sk-container-id-1 {\n",
       "  /* Definition of color scheme common for light and dark mode */\n",
       "  --sklearn-color-text: black;\n",
       "  --sklearn-color-line: gray;\n",
       "  /* Definition of color scheme for unfitted estimators */\n",
       "  --sklearn-color-unfitted-level-0: #fff5e6;\n",
       "  --sklearn-color-unfitted-level-1: #f6e4d2;\n",
       "  --sklearn-color-unfitted-level-2: #ffe0b3;\n",
       "  --sklearn-color-unfitted-level-3: chocolate;\n",
       "  /* Definition of color scheme for fitted estimators */\n",
       "  --sklearn-color-fitted-level-0: #f0f8ff;\n",
       "  --sklearn-color-fitted-level-1: #d4ebff;\n",
       "  --sklearn-color-fitted-level-2: #b3dbfd;\n",
       "  --sklearn-color-fitted-level-3: cornflowerblue;\n",
       "\n",
       "  /* Specific color for light theme */\n",
       "  --sklearn-color-text-on-default-background: var(--sg-text-color, var(--theme-code-foreground, var(--jp-content-font-color1, black)));\n",
       "  --sklearn-color-background: var(--sg-background-color, var(--theme-background, var(--jp-layout-color0, white)));\n",
       "  --sklearn-color-border-box: var(--sg-text-color, var(--theme-code-foreground, var(--jp-content-font-color1, black)));\n",
       "  --sklearn-color-icon: #696969;\n",
       "\n",
       "  @media (prefers-color-scheme: dark) {\n",
       "    /* Redefinition of color scheme for dark theme */\n",
       "    --sklearn-color-text-on-default-background: var(--sg-text-color, var(--theme-code-foreground, var(--jp-content-font-color1, white)));\n",
       "    --sklearn-color-background: var(--sg-background-color, var(--theme-background, var(--jp-layout-color0, #111)));\n",
       "    --sklearn-color-border-box: var(--sg-text-color, var(--theme-code-foreground, var(--jp-content-font-color1, white)));\n",
       "    --sklearn-color-icon: #878787;\n",
       "  }\n",
       "}\n",
       "\n",
       "#sk-container-id-1 {\n",
       "  color: var(--sklearn-color-text);\n",
       "}\n",
       "\n",
       "#sk-container-id-1 pre {\n",
       "  padding: 0;\n",
       "}\n",
       "\n",
       "#sk-container-id-1 input.sk-hidden--visually {\n",
       "  border: 0;\n",
       "  clip: rect(1px 1px 1px 1px);\n",
       "  clip: rect(1px, 1px, 1px, 1px);\n",
       "  height: 1px;\n",
       "  margin: -1px;\n",
       "  overflow: hidden;\n",
       "  padding: 0;\n",
       "  position: absolute;\n",
       "  width: 1px;\n",
       "}\n",
       "\n",
       "#sk-container-id-1 div.sk-dashed-wrapped {\n",
       "  border: 1px dashed var(--sklearn-color-line);\n",
       "  margin: 0 0.4em 0.5em 0.4em;\n",
       "  box-sizing: border-box;\n",
       "  padding-bottom: 0.4em;\n",
       "  background-color: var(--sklearn-color-background);\n",
       "}\n",
       "\n",
       "#sk-container-id-1 div.sk-container {\n",
       "  /* jupyter's `normalize.less` sets `[hidden] { display: none; }`\n",
       "     but bootstrap.min.css set `[hidden] { display: none !important; }`\n",
       "     so we also need the `!important` here to be able to override the\n",
       "     default hidden behavior on the sphinx rendered scikit-learn.org.\n",
       "     See: https://github.com/scikit-learn/scikit-learn/issues/21755 */\n",
       "  display: inline-block !important;\n",
       "  position: relative;\n",
       "}\n",
       "\n",
       "#sk-container-id-1 div.sk-text-repr-fallback {\n",
       "  display: none;\n",
       "}\n",
       "\n",
       "div.sk-parallel-item,\n",
       "div.sk-serial,\n",
       "div.sk-item {\n",
       "  /* draw centered vertical line to link estimators */\n",
       "  background-image: linear-gradient(var(--sklearn-color-text-on-default-background), var(--sklearn-color-text-on-default-background));\n",
       "  background-size: 2px 100%;\n",
       "  background-repeat: no-repeat;\n",
       "  background-position: center center;\n",
       "}\n",
       "\n",
       "/* Parallel-specific style estimator block */\n",
       "\n",
       "#sk-container-id-1 div.sk-parallel-item::after {\n",
       "  content: \"\";\n",
       "  width: 100%;\n",
       "  border-bottom: 2px solid var(--sklearn-color-text-on-default-background);\n",
       "  flex-grow: 1;\n",
       "}\n",
       "\n",
       "#sk-container-id-1 div.sk-parallel {\n",
       "  display: flex;\n",
       "  align-items: stretch;\n",
       "  justify-content: center;\n",
       "  background-color: var(--sklearn-color-background);\n",
       "  position: relative;\n",
       "}\n",
       "\n",
       "#sk-container-id-1 div.sk-parallel-item {\n",
       "  display: flex;\n",
       "  flex-direction: column;\n",
       "}\n",
       "\n",
       "#sk-container-id-1 div.sk-parallel-item:first-child::after {\n",
       "  align-self: flex-end;\n",
       "  width: 50%;\n",
       "}\n",
       "\n",
       "#sk-container-id-1 div.sk-parallel-item:last-child::after {\n",
       "  align-self: flex-start;\n",
       "  width: 50%;\n",
       "}\n",
       "\n",
       "#sk-container-id-1 div.sk-parallel-item:only-child::after {\n",
       "  width: 0;\n",
       "}\n",
       "\n",
       "/* Serial-specific style estimator block */\n",
       "\n",
       "#sk-container-id-1 div.sk-serial {\n",
       "  display: flex;\n",
       "  flex-direction: column;\n",
       "  align-items: center;\n",
       "  background-color: var(--sklearn-color-background);\n",
       "  padding-right: 1em;\n",
       "  padding-left: 1em;\n",
       "}\n",
       "\n",
       "\n",
       "/* Toggleable style: style used for estimator/Pipeline/ColumnTransformer box that is\n",
       "clickable and can be expanded/collapsed.\n",
       "- Pipeline and ColumnTransformer use this feature and define the default style\n",
       "- Estimators will overwrite some part of the style using the `sk-estimator` class\n",
       "*/\n",
       "\n",
       "/* Pipeline and ColumnTransformer style (default) */\n",
       "\n",
       "#sk-container-id-1 div.sk-toggleable {\n",
       "  /* Default theme specific background. It is overwritten whether we have a\n",
       "  specific estimator or a Pipeline/ColumnTransformer */\n",
       "  background-color: var(--sklearn-color-background);\n",
       "}\n",
       "\n",
       "/* Toggleable label */\n",
       "#sk-container-id-1 label.sk-toggleable__label {\n",
       "  cursor: pointer;\n",
       "  display: block;\n",
       "  width: 100%;\n",
       "  margin-bottom: 0;\n",
       "  padding: 0.5em;\n",
       "  box-sizing: border-box;\n",
       "  text-align: center;\n",
       "}\n",
       "\n",
       "#sk-container-id-1 label.sk-toggleable__label-arrow:before {\n",
       "  /* Arrow on the left of the label */\n",
       "  content: \"▸\";\n",
       "  float: left;\n",
       "  margin-right: 0.25em;\n",
       "  color: var(--sklearn-color-icon);\n",
       "}\n",
       "\n",
       "#sk-container-id-1 label.sk-toggleable__label-arrow:hover:before {\n",
       "  color: var(--sklearn-color-text);\n",
       "}\n",
       "\n",
       "/* Toggleable content - dropdown */\n",
       "\n",
       "#sk-container-id-1 div.sk-toggleable__content {\n",
       "  max-height: 0;\n",
       "  max-width: 0;\n",
       "  overflow: hidden;\n",
       "  text-align: left;\n",
       "  /* unfitted */\n",
       "  background-color: var(--sklearn-color-unfitted-level-0);\n",
       "}\n",
       "\n",
       "#sk-container-id-1 div.sk-toggleable__content.fitted {\n",
       "  /* fitted */\n",
       "  background-color: var(--sklearn-color-fitted-level-0);\n",
       "}\n",
       "\n",
       "#sk-container-id-1 div.sk-toggleable__content pre {\n",
       "  margin: 0.2em;\n",
       "  border-radius: 0.25em;\n",
       "  color: var(--sklearn-color-text);\n",
       "  /* unfitted */\n",
       "  background-color: var(--sklearn-color-unfitted-level-0);\n",
       "}\n",
       "\n",
       "#sk-container-id-1 div.sk-toggleable__content.fitted pre {\n",
       "  /* unfitted */\n",
       "  background-color: var(--sklearn-color-fitted-level-0);\n",
       "}\n",
       "\n",
       "#sk-container-id-1 input.sk-toggleable__control:checked~div.sk-toggleable__content {\n",
       "  /* Expand drop-down */\n",
       "  max-height: 200px;\n",
       "  max-width: 100%;\n",
       "  overflow: auto;\n",
       "}\n",
       "\n",
       "#sk-container-id-1 input.sk-toggleable__control:checked~label.sk-toggleable__label-arrow:before {\n",
       "  content: \"▾\";\n",
       "}\n",
       "\n",
       "/* Pipeline/ColumnTransformer-specific style */\n",
       "\n",
       "#sk-container-id-1 div.sk-label input.sk-toggleable__control:checked~label.sk-toggleable__label {\n",
       "  color: var(--sklearn-color-text);\n",
       "  background-color: var(--sklearn-color-unfitted-level-2);\n",
       "}\n",
       "\n",
       "#sk-container-id-1 div.sk-label.fitted input.sk-toggleable__control:checked~label.sk-toggleable__label {\n",
       "  background-color: var(--sklearn-color-fitted-level-2);\n",
       "}\n",
       "\n",
       "/* Estimator-specific style */\n",
       "\n",
       "/* Colorize estimator box */\n",
       "#sk-container-id-1 div.sk-estimator input.sk-toggleable__control:checked~label.sk-toggleable__label {\n",
       "  /* unfitted */\n",
       "  background-color: var(--sklearn-color-unfitted-level-2);\n",
       "}\n",
       "\n",
       "#sk-container-id-1 div.sk-estimator.fitted input.sk-toggleable__control:checked~label.sk-toggleable__label {\n",
       "  /* fitted */\n",
       "  background-color: var(--sklearn-color-fitted-level-2);\n",
       "}\n",
       "\n",
       "#sk-container-id-1 div.sk-label label.sk-toggleable__label,\n",
       "#sk-container-id-1 div.sk-label label {\n",
       "  /* The background is the default theme color */\n",
       "  color: var(--sklearn-color-text-on-default-background);\n",
       "}\n",
       "\n",
       "/* On hover, darken the color of the background */\n",
       "#sk-container-id-1 div.sk-label:hover label.sk-toggleable__label {\n",
       "  color: var(--sklearn-color-text);\n",
       "  background-color: var(--sklearn-color-unfitted-level-2);\n",
       "}\n",
       "\n",
       "/* Label box, darken color on hover, fitted */\n",
       "#sk-container-id-1 div.sk-label.fitted:hover label.sk-toggleable__label.fitted {\n",
       "  color: var(--sklearn-color-text);\n",
       "  background-color: var(--sklearn-color-fitted-level-2);\n",
       "}\n",
       "\n",
       "/* Estimator label */\n",
       "\n",
       "#sk-container-id-1 div.sk-label label {\n",
       "  font-family: monospace;\n",
       "  font-weight: bold;\n",
       "  display: inline-block;\n",
       "  line-height: 1.2em;\n",
       "}\n",
       "\n",
       "#sk-container-id-1 div.sk-label-container {\n",
       "  text-align: center;\n",
       "}\n",
       "\n",
       "/* Estimator-specific */\n",
       "#sk-container-id-1 div.sk-estimator {\n",
       "  font-family: monospace;\n",
       "  border: 1px dotted var(--sklearn-color-border-box);\n",
       "  border-radius: 0.25em;\n",
       "  box-sizing: border-box;\n",
       "  margin-bottom: 0.5em;\n",
       "  /* unfitted */\n",
       "  background-color: var(--sklearn-color-unfitted-level-0);\n",
       "}\n",
       "\n",
       "#sk-container-id-1 div.sk-estimator.fitted {\n",
       "  /* fitted */\n",
       "  background-color: var(--sklearn-color-fitted-level-0);\n",
       "}\n",
       "\n",
       "/* on hover */\n",
       "#sk-container-id-1 div.sk-estimator:hover {\n",
       "  /* unfitted */\n",
       "  background-color: var(--sklearn-color-unfitted-level-2);\n",
       "}\n",
       "\n",
       "#sk-container-id-1 div.sk-estimator.fitted:hover {\n",
       "  /* fitted */\n",
       "  background-color: var(--sklearn-color-fitted-level-2);\n",
       "}\n",
       "\n",
       "/* Specification for estimator info (e.g. \"i\" and \"?\") */\n",
       "\n",
       "/* Common style for \"i\" and \"?\" */\n",
       "\n",
       ".sk-estimator-doc-link,\n",
       "a:link.sk-estimator-doc-link,\n",
       "a:visited.sk-estimator-doc-link {\n",
       "  float: right;\n",
       "  font-size: smaller;\n",
       "  line-height: 1em;\n",
       "  font-family: monospace;\n",
       "  background-color: var(--sklearn-color-background);\n",
       "  border-radius: 1em;\n",
       "  height: 1em;\n",
       "  width: 1em;\n",
       "  text-decoration: none !important;\n",
       "  margin-left: 1ex;\n",
       "  /* unfitted */\n",
       "  border: var(--sklearn-color-unfitted-level-1) 1pt solid;\n",
       "  color: var(--sklearn-color-unfitted-level-1);\n",
       "}\n",
       "\n",
       ".sk-estimator-doc-link.fitted,\n",
       "a:link.sk-estimator-doc-link.fitted,\n",
       "a:visited.sk-estimator-doc-link.fitted {\n",
       "  /* fitted */\n",
       "  border: var(--sklearn-color-fitted-level-1) 1pt solid;\n",
       "  color: var(--sklearn-color-fitted-level-1);\n",
       "}\n",
       "\n",
       "/* On hover */\n",
       "div.sk-estimator:hover .sk-estimator-doc-link:hover,\n",
       ".sk-estimator-doc-link:hover,\n",
       "div.sk-label-container:hover .sk-estimator-doc-link:hover,\n",
       ".sk-estimator-doc-link:hover {\n",
       "  /* unfitted */\n",
       "  background-color: var(--sklearn-color-unfitted-level-3);\n",
       "  color: var(--sklearn-color-background);\n",
       "  text-decoration: none;\n",
       "}\n",
       "\n",
       "div.sk-estimator.fitted:hover .sk-estimator-doc-link.fitted:hover,\n",
       ".sk-estimator-doc-link.fitted:hover,\n",
       "div.sk-label-container:hover .sk-estimator-doc-link.fitted:hover,\n",
       ".sk-estimator-doc-link.fitted:hover {\n",
       "  /* fitted */\n",
       "  background-color: var(--sklearn-color-fitted-level-3);\n",
       "  color: var(--sklearn-color-background);\n",
       "  text-decoration: none;\n",
       "}\n",
       "\n",
       "/* Span, style for the box shown on hovering the info icon */\n",
       ".sk-estimator-doc-link span {\n",
       "  display: none;\n",
       "  z-index: 9999;\n",
       "  position: relative;\n",
       "  font-weight: normal;\n",
       "  right: .2ex;\n",
       "  padding: .5ex;\n",
       "  margin: .5ex;\n",
       "  width: min-content;\n",
       "  min-width: 20ex;\n",
       "  max-width: 50ex;\n",
       "  color: var(--sklearn-color-text);\n",
       "  box-shadow: 2pt 2pt 4pt #999;\n",
       "  /* unfitted */\n",
       "  background: var(--sklearn-color-unfitted-level-0);\n",
       "  border: .5pt solid var(--sklearn-color-unfitted-level-3);\n",
       "}\n",
       "\n",
       ".sk-estimator-doc-link.fitted span {\n",
       "  /* fitted */\n",
       "  background: var(--sklearn-color-fitted-level-0);\n",
       "  border: var(--sklearn-color-fitted-level-3);\n",
       "}\n",
       "\n",
       ".sk-estimator-doc-link:hover span {\n",
       "  display: block;\n",
       "}\n",
       "\n",
       "/* \"?\"-specific style due to the `<a>` HTML tag */\n",
       "\n",
       "#sk-container-id-1 a.estimator_doc_link {\n",
       "  float: right;\n",
       "  font-size: 1rem;\n",
       "  line-height: 1em;\n",
       "  font-family: monospace;\n",
       "  background-color: var(--sklearn-color-background);\n",
       "  border-radius: 1rem;\n",
       "  height: 1rem;\n",
       "  width: 1rem;\n",
       "  text-decoration: none;\n",
       "  /* unfitted */\n",
       "  color: var(--sklearn-color-unfitted-level-1);\n",
       "  border: var(--sklearn-color-unfitted-level-1) 1pt solid;\n",
       "}\n",
       "\n",
       "#sk-container-id-1 a.estimator_doc_link.fitted {\n",
       "  /* fitted */\n",
       "  border: var(--sklearn-color-fitted-level-1) 1pt solid;\n",
       "  color: var(--sklearn-color-fitted-level-1);\n",
       "}\n",
       "\n",
       "/* On hover */\n",
       "#sk-container-id-1 a.estimator_doc_link:hover {\n",
       "  /* unfitted */\n",
       "  background-color: var(--sklearn-color-unfitted-level-3);\n",
       "  color: var(--sklearn-color-background);\n",
       "  text-decoration: none;\n",
       "}\n",
       "\n",
       "#sk-container-id-1 a.estimator_doc_link.fitted:hover {\n",
       "  /* fitted */\n",
       "  background-color: var(--sklearn-color-fitted-level-3);\n",
       "}\n",
       "</style><div id=\"sk-container-id-1\" class=\"sk-top-container\"><div class=\"sk-text-repr-fallback\"><pre>Pipeline(steps=[(&#x27;preprocessor&#x27;,\n",
       "                 ColumnTransformer(transformers=[(&#x27;num&#x27;,\n",
       "                                                  Pipeline(steps=[(&#x27;imputer&#x27;,\n",
       "                                                                   SimpleImputer(strategy=&#x27;median&#x27;)),\n",
       "                                                                  (&#x27;scaler&#x27;,\n",
       "                                                                   StandardScaler())]),\n",
       "                                                  Index([&#x27;Height&#x27;, &#x27;Weight&#x27;, &#x27;Age&#x27;, &#x27;Weak_foot&#x27;, &#x27;Skill_Moves&#x27;, &#x27;Ball_Control&#x27;,\n",
       "       &#x27;Dribbling&#x27;, &#x27;Marking&#x27;, &#x27;Sliding_Tackle&#x27;, &#x27;Standing_Tackle&#x27;,\n",
       "       &#x27;Aggression&#x27;, &#x27;Reactions&#x27;, &#x27;Interceptions&#x27;, &#x27;Vision&#x27;, &#x27;Composur...\n",
       "       &#x27;Shot_Power&#x27;, &#x27;Finishing&#x27;, &#x27;Long_Shots&#x27;, &#x27;Curve&#x27;, &#x27;Freekick_Accuracy&#x27;,\n",
       "       &#x27;Penalties&#x27;, &#x27;Volleys&#x27;],\n",
       "      dtype=&#x27;object&#x27;)),\n",
       "                                                 (&#x27;cat&#x27;,\n",
       "                                                  Pipeline(steps=[(&#x27;imputer&#x27;,\n",
       "                                                                   SimpleImputer(fill_value=&#x27;missing&#x27;,\n",
       "                                                                                 strategy=&#x27;constant&#x27;)),\n",
       "                                                                  (&#x27;encoder&#x27;,\n",
       "                                                                   OneHotEncoder(handle_unknown=&#x27;ignore&#x27;))]),\n",
       "                                                  Index([&#x27;Name&#x27;, &#x27;Nationality&#x27;, &#x27;Club_Position&#x27;, &#x27;Preffered_Foot&#x27;, &#x27;Work_Rate&#x27;], dtype=&#x27;object&#x27;))])),\n",
       "                (&#x27;classifier&#x27;, LGBMClassifier(random_state=42))])</pre><b>In a Jupyter environment, please rerun this cell to show the HTML representation or trust the notebook. <br />On GitHub, the HTML representation is unable to render, please try loading this page with nbviewer.org.</b></div><div class=\"sk-container\" hidden><div class=\"sk-item sk-dashed-wrapped\"><div class=\"sk-label-container\"><div class=\"sk-label fitted sk-toggleable\"><input class=\"sk-toggleable__control sk-hidden--visually\" id=\"sk-estimator-id-1\" type=\"checkbox\" ><label for=\"sk-estimator-id-1\" class=\"sk-toggleable__label fitted sk-toggleable__label-arrow fitted\">&nbsp;&nbsp;Pipeline<a class=\"sk-estimator-doc-link fitted\" rel=\"noreferrer\" target=\"_blank\" href=\"https://scikit-learn.org/1.4/modules/generated/sklearn.pipeline.Pipeline.html\">?<span>Documentation for Pipeline</span></a><span class=\"sk-estimator-doc-link fitted\">i<span>Fitted</span></span></label><div class=\"sk-toggleable__content fitted\"><pre>Pipeline(steps=[(&#x27;preprocessor&#x27;,\n",
       "                 ColumnTransformer(transformers=[(&#x27;num&#x27;,\n",
       "                                                  Pipeline(steps=[(&#x27;imputer&#x27;,\n",
       "                                                                   SimpleImputer(strategy=&#x27;median&#x27;)),\n",
       "                                                                  (&#x27;scaler&#x27;,\n",
       "                                                                   StandardScaler())]),\n",
       "                                                  Index([&#x27;Height&#x27;, &#x27;Weight&#x27;, &#x27;Age&#x27;, &#x27;Weak_foot&#x27;, &#x27;Skill_Moves&#x27;, &#x27;Ball_Control&#x27;,\n",
       "       &#x27;Dribbling&#x27;, &#x27;Marking&#x27;, &#x27;Sliding_Tackle&#x27;, &#x27;Standing_Tackle&#x27;,\n",
       "       &#x27;Aggression&#x27;, &#x27;Reactions&#x27;, &#x27;Interceptions&#x27;, &#x27;Vision&#x27;, &#x27;Composur...\n",
       "       &#x27;Shot_Power&#x27;, &#x27;Finishing&#x27;, &#x27;Long_Shots&#x27;, &#x27;Curve&#x27;, &#x27;Freekick_Accuracy&#x27;,\n",
       "       &#x27;Penalties&#x27;, &#x27;Volleys&#x27;],\n",
       "      dtype=&#x27;object&#x27;)),\n",
       "                                                 (&#x27;cat&#x27;,\n",
       "                                                  Pipeline(steps=[(&#x27;imputer&#x27;,\n",
       "                                                                   SimpleImputer(fill_value=&#x27;missing&#x27;,\n",
       "                                                                                 strategy=&#x27;constant&#x27;)),\n",
       "                                                                  (&#x27;encoder&#x27;,\n",
       "                                                                   OneHotEncoder(handle_unknown=&#x27;ignore&#x27;))]),\n",
       "                                                  Index([&#x27;Name&#x27;, &#x27;Nationality&#x27;, &#x27;Club_Position&#x27;, &#x27;Preffered_Foot&#x27;, &#x27;Work_Rate&#x27;], dtype=&#x27;object&#x27;))])),\n",
       "                (&#x27;classifier&#x27;, LGBMClassifier(random_state=42))])</pre></div> </div></div><div class=\"sk-serial\"><div class=\"sk-item sk-dashed-wrapped\"><div class=\"sk-label-container\"><div class=\"sk-label fitted sk-toggleable\"><input class=\"sk-toggleable__control sk-hidden--visually\" id=\"sk-estimator-id-2\" type=\"checkbox\" ><label for=\"sk-estimator-id-2\" class=\"sk-toggleable__label fitted sk-toggleable__label-arrow fitted\">&nbsp;preprocessor: ColumnTransformer<a class=\"sk-estimator-doc-link fitted\" rel=\"noreferrer\" target=\"_blank\" href=\"https://scikit-learn.org/1.4/modules/generated/sklearn.compose.ColumnTransformer.html\">?<span>Documentation for preprocessor: ColumnTransformer</span></a></label><div class=\"sk-toggleable__content fitted\"><pre>ColumnTransformer(transformers=[(&#x27;num&#x27;,\n",
       "                                 Pipeline(steps=[(&#x27;imputer&#x27;,\n",
       "                                                  SimpleImputer(strategy=&#x27;median&#x27;)),\n",
       "                                                 (&#x27;scaler&#x27;, StandardScaler())]),\n",
       "                                 Index([&#x27;Height&#x27;, &#x27;Weight&#x27;, &#x27;Age&#x27;, &#x27;Weak_foot&#x27;, &#x27;Skill_Moves&#x27;, &#x27;Ball_Control&#x27;,\n",
       "       &#x27;Dribbling&#x27;, &#x27;Marking&#x27;, &#x27;Sliding_Tackle&#x27;, &#x27;Standing_Tackle&#x27;,\n",
       "       &#x27;Aggression&#x27;, &#x27;Reactions&#x27;, &#x27;Interceptions&#x27;, &#x27;Vision&#x27;, &#x27;Composure&#x27;,\n",
       "       &#x27;Crossing&#x27;, &#x27;Short_Pass&#x27;, &#x27;Long...\n",
       "       &#x27;Stamina&#x27;, &#x27;Strength&#x27;, &#x27;Balance&#x27;, &#x27;Agility&#x27;, &#x27;Jumping&#x27;, &#x27;Heading&#x27;,\n",
       "       &#x27;Shot_Power&#x27;, &#x27;Finishing&#x27;, &#x27;Long_Shots&#x27;, &#x27;Curve&#x27;, &#x27;Freekick_Accuracy&#x27;,\n",
       "       &#x27;Penalties&#x27;, &#x27;Volleys&#x27;],\n",
       "      dtype=&#x27;object&#x27;)),\n",
       "                                (&#x27;cat&#x27;,\n",
       "                                 Pipeline(steps=[(&#x27;imputer&#x27;,\n",
       "                                                  SimpleImputer(fill_value=&#x27;missing&#x27;,\n",
       "                                                                strategy=&#x27;constant&#x27;)),\n",
       "                                                 (&#x27;encoder&#x27;,\n",
       "                                                  OneHotEncoder(handle_unknown=&#x27;ignore&#x27;))]),\n",
       "                                 Index([&#x27;Name&#x27;, &#x27;Nationality&#x27;, &#x27;Club_Position&#x27;, &#x27;Preffered_Foot&#x27;, &#x27;Work_Rate&#x27;], dtype=&#x27;object&#x27;))])</pre></div> </div></div><div class=\"sk-parallel\"><div class=\"sk-parallel-item\"><div class=\"sk-item\"><div class=\"sk-label-container\"><div class=\"sk-label fitted sk-toggleable\"><input class=\"sk-toggleable__control sk-hidden--visually\" id=\"sk-estimator-id-3\" type=\"checkbox\" ><label for=\"sk-estimator-id-3\" class=\"sk-toggleable__label fitted sk-toggleable__label-arrow fitted\">num</label><div class=\"sk-toggleable__content fitted\"><pre>Index([&#x27;Height&#x27;, &#x27;Weight&#x27;, &#x27;Age&#x27;, &#x27;Weak_foot&#x27;, &#x27;Skill_Moves&#x27;, &#x27;Ball_Control&#x27;,\n",
       "       &#x27;Dribbling&#x27;, &#x27;Marking&#x27;, &#x27;Sliding_Tackle&#x27;, &#x27;Standing_Tackle&#x27;,\n",
       "       &#x27;Aggression&#x27;, &#x27;Reactions&#x27;, &#x27;Interceptions&#x27;, &#x27;Vision&#x27;, &#x27;Composure&#x27;,\n",
       "       &#x27;Crossing&#x27;, &#x27;Short_Pass&#x27;, &#x27;Long_Pass&#x27;, &#x27;Acceleration&#x27;, &#x27;Speed&#x27;,\n",
       "       &#x27;Stamina&#x27;, &#x27;Strength&#x27;, &#x27;Balance&#x27;, &#x27;Agility&#x27;, &#x27;Jumping&#x27;, &#x27;Heading&#x27;,\n",
       "       &#x27;Shot_Power&#x27;, &#x27;Finishing&#x27;, &#x27;Long_Shots&#x27;, &#x27;Curve&#x27;, &#x27;Freekick_Accuracy&#x27;,\n",
       "       &#x27;Penalties&#x27;, &#x27;Volleys&#x27;],\n",
       "      dtype=&#x27;object&#x27;)</pre></div> </div></div><div class=\"sk-serial\"><div class=\"sk-item\"><div class=\"sk-serial\"><div class=\"sk-item\"><div class=\"sk-estimator fitted sk-toggleable\"><input class=\"sk-toggleable__control sk-hidden--visually\" id=\"sk-estimator-id-4\" type=\"checkbox\" ><label for=\"sk-estimator-id-4\" class=\"sk-toggleable__label fitted sk-toggleable__label-arrow fitted\">&nbsp;SimpleImputer<a class=\"sk-estimator-doc-link fitted\" rel=\"noreferrer\" target=\"_blank\" href=\"https://scikit-learn.org/1.4/modules/generated/sklearn.impute.SimpleImputer.html\">?<span>Documentation for SimpleImputer</span></a></label><div class=\"sk-toggleable__content fitted\"><pre>SimpleImputer(strategy=&#x27;median&#x27;)</pre></div> </div></div><div class=\"sk-item\"><div class=\"sk-estimator fitted sk-toggleable\"><input class=\"sk-toggleable__control sk-hidden--visually\" id=\"sk-estimator-id-5\" type=\"checkbox\" ><label for=\"sk-estimator-id-5\" class=\"sk-toggleable__label fitted sk-toggleable__label-arrow fitted\">&nbsp;StandardScaler<a class=\"sk-estimator-doc-link fitted\" rel=\"noreferrer\" target=\"_blank\" href=\"https://scikit-learn.org/1.4/modules/generated/sklearn.preprocessing.StandardScaler.html\">?<span>Documentation for StandardScaler</span></a></label><div class=\"sk-toggleable__content fitted\"><pre>StandardScaler()</pre></div> </div></div></div></div></div></div></div><div class=\"sk-parallel-item\"><div class=\"sk-item\"><div class=\"sk-label-container\"><div class=\"sk-label fitted sk-toggleable\"><input class=\"sk-toggleable__control sk-hidden--visually\" id=\"sk-estimator-id-6\" type=\"checkbox\" ><label for=\"sk-estimator-id-6\" class=\"sk-toggleable__label fitted sk-toggleable__label-arrow fitted\">cat</label><div class=\"sk-toggleable__content fitted\"><pre>Index([&#x27;Name&#x27;, &#x27;Nationality&#x27;, &#x27;Club_Position&#x27;, &#x27;Preffered_Foot&#x27;, &#x27;Work_Rate&#x27;], dtype=&#x27;object&#x27;)</pre></div> </div></div><div class=\"sk-serial\"><div class=\"sk-item\"><div class=\"sk-serial\"><div class=\"sk-item\"><div class=\"sk-estimator fitted sk-toggleable\"><input class=\"sk-toggleable__control sk-hidden--visually\" id=\"sk-estimator-id-7\" type=\"checkbox\" ><label for=\"sk-estimator-id-7\" class=\"sk-toggleable__label fitted sk-toggleable__label-arrow fitted\">&nbsp;SimpleImputer<a class=\"sk-estimator-doc-link fitted\" rel=\"noreferrer\" target=\"_blank\" href=\"https://scikit-learn.org/1.4/modules/generated/sklearn.impute.SimpleImputer.html\">?<span>Documentation for SimpleImputer</span></a></label><div class=\"sk-toggleable__content fitted\"><pre>SimpleImputer(fill_value=&#x27;missing&#x27;, strategy=&#x27;constant&#x27;)</pre></div> </div></div><div class=\"sk-item\"><div class=\"sk-estimator fitted sk-toggleable\"><input class=\"sk-toggleable__control sk-hidden--visually\" id=\"sk-estimator-id-8\" type=\"checkbox\" ><label for=\"sk-estimator-id-8\" class=\"sk-toggleable__label fitted sk-toggleable__label-arrow fitted\">&nbsp;OneHotEncoder<a class=\"sk-estimator-doc-link fitted\" rel=\"noreferrer\" target=\"_blank\" href=\"https://scikit-learn.org/1.4/modules/generated/sklearn.preprocessing.OneHotEncoder.html\">?<span>Documentation for OneHotEncoder</span></a></label><div class=\"sk-toggleable__content fitted\"><pre>OneHotEncoder(handle_unknown=&#x27;ignore&#x27;)</pre></div> </div></div></div></div></div></div></div></div></div><div class=\"sk-item\"><div class=\"sk-estimator fitted sk-toggleable\"><input class=\"sk-toggleable__control sk-hidden--visually\" id=\"sk-estimator-id-9\" type=\"checkbox\" ><label for=\"sk-estimator-id-9\" class=\"sk-toggleable__label fitted sk-toggleable__label-arrow fitted\">LGBMClassifier</label><div class=\"sk-toggleable__content fitted\"><pre>LGBMClassifier(random_state=42)</pre></div> </div></div></div></div></div></div>"
      ],
      "text/plain": [
       "Pipeline(steps=[('preprocessor',\n",
       "                 ColumnTransformer(transformers=[('num',\n",
       "                                                  Pipeline(steps=[('imputer',\n",
       "                                                                   SimpleImputer(strategy='median')),\n",
       "                                                                  ('scaler',\n",
       "                                                                   StandardScaler())]),\n",
       "                                                  Index(['Height', 'Weight', 'Age', 'Weak_foot', 'Skill_Moves', 'Ball_Control',\n",
       "       'Dribbling', 'Marking', 'Sliding_Tackle', 'Standing_Tackle',\n",
       "       'Aggression', 'Reactions', 'Interceptions', 'Vision', 'Composur...\n",
       "       'Shot_Power', 'Finishing', 'Long_Shots', 'Curve', 'Freekick_Accuracy',\n",
       "       'Penalties', 'Volleys'],\n",
       "      dtype='object')),\n",
       "                                                 ('cat',\n",
       "                                                  Pipeline(steps=[('imputer',\n",
       "                                                                   SimpleImputer(fill_value='missing',\n",
       "                                                                                 strategy='constant')),\n",
       "                                                                  ('encoder',\n",
       "                                                                   OneHotEncoder(handle_unknown='ignore'))]),\n",
       "                                                  Index(['Name', 'Nationality', 'Club_Position', 'Preffered_Foot', 'Work_Rate'], dtype='object'))])),\n",
       "                ('classifier', LGBMClassifier(random_state=42))])"
      ]
     },
     "execution_count": 7,
     "metadata": {},
     "output_type": "execute_result"
    }
   ],
   "source": [
    "# Entrenamiento XGBoost\n",
    "pipeline_xgboost.fit(X_train, y_train)\n",
    "\n",
    "# Entrenamiento LightGBM\n",
    "pipeline_lightgbm.fit(X_train, y_train)"
   ]
  },
  {
   "cell_type": "markdown",
   "metadata": {
    "id": "poc9HSNBFeKO"
   },
   "source": [
    "### 1.3 Resultados [6 puntos]"
   ]
  },
  {
   "cell_type": "markdown",
   "metadata": {
    "id": "tGGCj8YtFil1"
   },
   "source": [
    "1. Calcule las métricas accuracy, precisión y recall de la clase positiva (la que indica que un jugador es seleccionado nacional) para evaluar el rendimiento de los distintos modelos. Verifique sus resultados usando `classification_report`. [2 puntos]\n",
    "\n",
    "2. Explique qué implican los valores de accuracy, precisión y recall de la clase positiva (la que indica que un jugador es seleccionado nacional) y cómo influye la cantidad de ejemplos por clase en los resultados obtenidos. [2 puntos]\n",
    "\n",
    "3. Explique qué métrica le parece más adecuada y concluya qué modelo tiene un mejor desempeño. [2 puntos]"
   ]
  },
  {
   "cell_type": "markdown",
   "metadata": {
    "id": "A1hkVFdujJTi"
   },
   "source": [
    "**Respuesta:**"
   ]
  },
  {
   "cell_type": "code",
   "execution_count": 8,
   "metadata": {
    "id": "QNmI_tbbdQte"
   },
   "outputs": [
    {
     "name": "stdout",
     "output_type": "stream",
     "text": [
      "Resultados XGBoost:\n",
      "Accuracy: 0.9488\n",
      "Precision: 0.6357\n",
      "Recall: 0.3814\n",
      "\n",
      "Classification Report XGBoost:\n",
      "               precision    recall  f1-score   support\n",
      "\n",
      "           0       0.96      0.99      0.97      3303\n",
      "           1       0.64      0.38      0.48       215\n",
      "\n",
      "    accuracy                           0.95      3518\n",
      "   macro avg       0.80      0.68      0.72      3518\n",
      "weighted avg       0.94      0.95      0.94      3518\n",
      "\n",
      "\n",
      "Resultados LightGBM:\n",
      "Accuracy: 0.9503\n",
      "Precision: 0.6754\n",
      "Recall: 0.3581\n",
      "\n",
      "Classification Report LightGBM:\n",
      "               precision    recall  f1-score   support\n",
      "\n",
      "           0       0.96      0.99      0.97      3303\n",
      "           1       0.68      0.36      0.47       215\n",
      "\n",
      "    accuracy                           0.95      3518\n",
      "   macro avg       0.82      0.67      0.72      3518\n",
      "weighted avg       0.94      0.95      0.94      3518\n",
      "\n"
     ]
    }
   ],
   "source": [
    "from sklearn.metrics import accuracy_score, precision_score, recall_score, classification_report\n",
    "\n",
    "# Predicciones sobre test\n",
    "y_pred_xgb = pipeline_xgboost.predict(X_test)\n",
    "y_pred_lgbm = pipeline_lightgbm.predict(X_test)\n",
    "\n",
    "# Accuracy\n",
    "acc_xgb = accuracy_score(y_test, y_pred_xgb)\n",
    "acc_lgbm = accuracy_score(y_test, y_pred_lgbm)\n",
    "\n",
    "# Precision (de la clase positiva, es decir jugadores seleccionados)\n",
    "prec_xgb = precision_score(y_test, y_pred_xgb)\n",
    "prec_lgbm = precision_score(y_test, y_pred_lgbm)\n",
    "\n",
    "# Recall (de la clase positiva)\n",
    "rec_xgb = recall_score(y_test, y_pred_xgb)\n",
    "rec_lgbm = recall_score(y_test, y_pred_lgbm)\n",
    "\n",
    "# Mostrar resultados\n",
    "print(\"Resultados XGBoost:\")\n",
    "print(f\"Accuracy: {acc_xgb:.4f}\")\n",
    "print(f\"Precision: {prec_xgb:.4f}\")\n",
    "print(f\"Recall: {rec_xgb:.4f}\")\n",
    "print(\"\\nClassification Report XGBoost:\\n\", classification_report(y_test, y_pred_xgb))\n",
    "\n",
    "print(\"\\nResultados LightGBM:\")\n",
    "print(f\"Accuracy: {acc_lgbm:.4f}\")\n",
    "print(f\"Precision: {prec_lgbm:.4f}\")\n",
    "print(f\"Recall: {rec_lgbm:.4f}\")\n",
    "print(\"\\nClassification Report LightGBM:\\n\", classification_report(y_test, y_pred_lgbm))"
   ]
  },
  {
   "cell_type": "markdown",
   "metadata": {},
   "source": [
    "Explicación:\n",
    "\n",
    "Accuracy: Proporción de ejemplos totales clasificados correctamente.\n",
    "En este caso, indica qué tan bien el modelo distingue entre jugadores seleccionados y no seleccionados en general.\n",
    "\n",
    "Precisión (Precision) de la clase positiva: Proporción de verdaderos seleccionados sobre todos los que el modelo predijo como seleccionados.\n",
    "Alta precisión significa que cuando el modelo predice que alguien es seleccionado, generalmente no se equivoca.\n",
    "\n",
    "Recall de la clase positiva: Proporción de verdaderos seleccionados correctamente identificados respecto a todos los jugadores que efectivamente son seleccionados.\n",
    "Alto recall significa que el modelo detecta casi a todos los verdaderos seleccionados.\n",
    "\n",
    "Influencia de la cantidad de ejemplos por clase:\n",
    "\n",
    "Si las clases están desbalanceadas (por ejemplo, si hay muchos más jugadores NO seleccionados que seleccionados), el accuracy puede ser engañosamente alto, ya que el modelo puede predecir siempre \"no seleccionado\" y aún así acertar la mayoría de las veces.\n",
    "\n",
    "Por eso, en casos desbalanceados es mejor enfocarse en precision y recall de la clase positiva."
   ]
  },
  {
   "cell_type": "markdown",
   "metadata": {},
   "source": [
    "En este caso, me interesa más el recall de la clase positiva, porque queremos capturar a la mayor cantidad posible de jugadores seleccionados nacionales.\n",
    "Sin embargo, también es importante una buena precisión, para no equivocarnos al recomendar jugadores que en realidad no están seleccionados.\n",
    "\n",
    "Finalmente, comparas los números que obtuviste:\n",
    "\n",
    "Si un modelo tiene mejor recall y buena precisión, elegirías ese.\n",
    "\n",
    "Si uno tiene mejor precision pero pésimo recall, lo comentarías como \"es más conservador, pero se le escapan seleccionados\"."
   ]
  },
  {
   "cell_type": "markdown",
   "metadata": {
    "id": "uy5VMU6ae_g6"
   },
   "source": [
    "## 2. Predicción de posiciones de jugadores [4 puntos]"
   ]
  },
  {
   "cell_type": "markdown",
   "metadata": {
    "id": "S0PGg_hLgr4H"
   },
   "source": [
    "<p align=\"center\">\n",
    "  <img src=\"https://pbs.twimg.com/media/E1rfA1aWEAYU6Ny.jpg\" width=\"300\">\n",
    "</p>"
   ]
  },
  {
   "cell_type": "markdown",
   "metadata": {
    "id": "I6rSnAesfOm3"
   },
   "source": [
    "En una nueva jornada de desmesuradas transacciones deportivas, Renacín escuchó a sus colegas discutir acerca de que el precio de cada jugador depende en gran medida de la posición en la cancha en la que juega. Y además, que hay bastantes jugadores nuevos que no tienen muy claro en que posición verdaderamente brillarían, por lo que actualmente puede que actualmente estén jugando en posiciones sub-optimas.\n",
    "\n",
    "Viendo que los resultados del primer análisis no son tan esperanzadores, el corporeo los comanda a cambiar su tarea: ahora, les solicita que construyan un clasificador enfocado en predecir la mejor posición de los jugadores en la cancha según sus características.\n",
    "\n",
    "Para lograr esto, primero, les pide que etiqueten de la siguiente manera los valores que aparecen en el atributo `Club_Position`, pidiendo que agrupen los valores en los siguientes grupos:\n",
    "\n",
    "**Nota**:  Renacín les recalca que **no deben utilizar los valores ```Sub``` y ```Res``` de esta columna**.\n",
    "\n",
    "```python\n",
    "ataque = ['ST', 'CF']\n",
    "central_ataque = ['RW', 'CAM', 'LW']\n",
    "central = ['RM', 'CM', 'LM']\n",
    "central_defensa = ['RWB', 'CDM', 'LWB']\n",
    "defensa = ['RB', 'CB', 'LB']\n",
    "arquero = ['GK']\n",
    "```\n",
    "\n",
    "La elección del clasificador se justificar en base a la siguiente [guía](https://scikit-learn.org/stable/tutorial/machine_learning_map/index.html) y se deben comentar los resultados obtenidos en la clasificación.\n",
    "\n",
    "**Tareas:** [1 punto por tarea]\n",
    "\n",
    "1. En un nuevo dataframe, aplique las etiquetas descritas anteriormente en cada uno de los valores señalados en esta sección y guárdelos en la variable `label`.\n",
    "2. Cuente cuántos por clase quedan.\n",
    "3. Entrene el nuevo pipeline y ejecute una evaluación de este.  \n",
    "4. Comente los resultados obtenidos."
   ]
  },
  {
   "cell_type": "markdown",
   "metadata": {
    "id": "sBmSaWh8i2MI"
   },
   "source": [
    "**Respuesta:**"
   ]
  },
  {
   "cell_type": "code",
   "execution_count": 9,
   "metadata": {
    "id": "Ir_7zMh2i1vg"
   },
   "outputs": [],
   "source": [
    "# Suponiendo que tu DataFrame original se llama df\n",
    "# (sino dime cómo se llama y lo ajustamos)\n",
    "\n",
    "# Definir los grupos\n",
    "df = pd.read_csv('stats_players.csv')\n",
    "\n",
    "\n",
    "ataque = ['ST', 'CF']\n",
    "central_ataque = ['RW', 'CAM', 'LW']\n",
    "central = ['RM', 'CM', 'LM']\n",
    "central_defensa = ['RWB', 'CDM', 'LWB']\n",
    "defensa = ['RB', 'CB', 'LB']\n",
    "arquero = ['GK']\n",
    "\n",
    "# Función para mapear cada posición\n",
    "def map_position(pos):\n",
    "    if pos in ataque:\n",
    "        return 'ataque'\n",
    "    elif pos in central_ataque:\n",
    "        return 'central_ataque'\n",
    "    elif pos in central:\n",
    "        return 'central'\n",
    "    elif pos in central_defensa:\n",
    "        return 'central_defensa'\n",
    "    elif pos in defensa:\n",
    "        return 'defensa'\n",
    "    elif pos in arquero:\n",
    "        return 'arquero'\n",
    "    else:\n",
    "        return None\n",
    "\n",
    "# Crear el nuevo label\n",
    "df['label'] = df['Club_Position'].apply(map_position)\n",
    "\n",
    "# Filtrar filas donde no hay label (es decir, Sub o Res u otras)\n",
    "df = df[df['label'].notna()]\n"
   ]
  },
  {
   "cell_type": "code",
   "execution_count": 10,
   "metadata": {},
   "outputs": [
    {
     "name": "stdout",
     "output_type": "stream",
     "text": [
      "label\n",
      "defensa            1180\n",
      "central             907\n",
      "arquero             632\n",
      "central_ataque      581\n",
      "ataque              430\n",
      "central_defensa     209\n",
      "Name: count, dtype: int64\n"
     ]
    }
   ],
   "source": [
    "conteo_clases = df['label'].value_counts()\n",
    "print(conteo_clases)"
   ]
  },
  {
   "cell_type": "code",
   "execution_count": 11,
   "metadata": {},
   "outputs": [
    {
     "name": "stdout",
     "output_type": "stream",
     "text": [
      "                 precision    recall  f1-score   support\n",
      "\n",
      "        arquero       1.00      1.00      1.00       126\n",
      "         ataque       1.00      1.00      1.00        86\n",
      "        central       0.98      1.00      0.99       182\n",
      " central_ataque       0.99      1.00      1.00       116\n",
      "central_defensa       1.00      0.93      0.96        42\n",
      "        defensa       1.00      1.00      1.00       236\n",
      "\n",
      "       accuracy                           0.99       788\n",
      "      macro avg       1.00      0.99      0.99       788\n",
      "   weighted avg       0.99      0.99      0.99       788\n",
      "\n"
     ]
    }
   ],
   "source": [
    "from sklearn.preprocessing import LabelEncoder\n",
    "from sklearn.svm import SVC\n",
    "\n",
    "X = df.drop(columns=['label'])  # No uses la columna original Club_Position\n",
    "y = df['label']\n",
    "\n",
    "# Codificar etiquetas\n",
    "label_encoder = LabelEncoder()\n",
    "y_encoded = label_encoder.fit_transform(y)\n",
    "\n",
    "# Train/test split con y codificado\n",
    "X_train, X_test, y_train, y_test = train_test_split(\n",
    "    X, y_encoded, test_size=0.2, random_state=42, stratify=y_encoded\n",
    ")\n",
    "\n",
    "\n",
    "# Pipeline con XGBoost\n",
    "pipeline_svc = Pipeline(steps=[\n",
    "    ('preprocessor', col_transformer),\n",
    "    ('classifier', SVC(random_state=42))\n",
    "])\n",
    "\n",
    "\n",
    "# Entrenar el pipeline como antes\n",
    "pipeline_svc.fit(X_train, y_train)\n",
    "\n",
    "from sklearn.metrics import classification_report\n",
    "\n",
    "y_pred = pipeline_svc.predict(X_test)\n",
    "\n",
    "# Reporte con etiquetas originales\n",
    "print(classification_report(label_encoder.inverse_transform(y_test),\n",
    "                            label_encoder.inverse_transform(y_pred)))"
   ]
  },
  {
   "cell_type": "markdown",
   "metadata": {
    "id": "9bL2m8nNojXM"
   },
   "source": [
    "## 3. Predicciones de Seleccionados Nacionales para el Jere Klein [30 puntos]"
   ]
  },
  {
   "cell_type": "markdown",
   "metadata": {
    "id": "_2XmRsJdsEh_"
   },
   "source": [
    "<center>\n",
    "<img src='https://www.radioactiva.cl/wp-content/uploads/2024/04/Jere-Klein-1-768x432.webp' width=500 />"
   ]
  },
  {
   "cell_type": "markdown",
   "metadata": {
    "id": "AgmUoVDsqUPu"
   },
   "source": [
    "Después de alcanzar la fama como cantante urbano, Jere Klein decide explorar una nueva faceta. Con su amor por el fútbol y convencido de que los artistas urbanos poseen un talento y versatilidad excepcionales, Jere se embarca en un proyecto innovador: desarrollar un sistema de inteligencia artificial capaz de identificar a jugadores que tienen potencial para convertirse en futbolistas profesionales. Su teoría es que muchos artistas del género urbano chileno, con sus habilidades únicas y su disciplina, podrían destacarse también en el deporte. Con este sistema, Jere espera no solo abrir nuevas oportunidades para sus colegas artistas, sino también demostrar la amplia gama de talentos que pueden ofrecer."
   ]
  },
  {
   "cell_type": "markdown",
   "metadata": {
    "id": "rD8pQ5Zfq8dE"
   },
   "source": [
    "### 2.1 ¿Qué modelo de árbol es más de \"pana\"? [10 puntos]"
   ]
  },
  {
   "cell_type": "markdown",
   "metadata": {
    "id": "zB-KUA4g99eo"
   },
   "source": [
    "<center>\n",
    "<img src='https://64.media.tumblr.com/39189215a7d3d96823cb359f35b44e05/tumblr_psmrhrR3Xw1qf5hjqo4_540.gif' width=300 />"
   ]
  },
  {
   "cell_type": "markdown",
   "metadata": {
    "id": "uL-moVhB9vPH"
   },
   "source": [
    "\n",
    "**Tareas**\n",
    "\n",
    "\n",
    "1. Considerando el la variable llamada `label` creada en la sección 1.1. Para determinar cuál modelo de árbol sería más adecuado para la tarea en cuestión, utilice PyCaret. Este deberá centrarse exclusivamente en modelos de tipo árbol. Jere ha especificado que busca un modelo que tome decisiones rápidamente y que tenga una baja tasa de falsos positivos, ya que planea invertir en estos jugadores. [3 puntos]\n",
    "\n",
    "Para la comparación, utilice los siguientes modelos:\n",
    "\n",
    "```python\n",
    "['et', 'rf', 'dt', 'xgboost', 'lightgbm', 'catboost']\n",
    "```\n",
    "\n",
    "2. Explique en brevemente que son los modelos de la siguiente lista `['et', 'rf', 'dt']` y como funcionan. [3 punto]\n",
    "\n",
    "3. Tras realizar la comparación de modelos, seleccione aquel que muestre el mejor rendimiento en términos de velocidad y precisión, especialmente en la reducción de falsos positivos. Utilice la función `evaluate_model` de PyCaret para revisar y analizar los resultados obtenidos en los siguientes aspectos:\n",
    "\n",
    "  - **Confusión Matrix**: ¿Cómo se encuentran la tasa de verdaderos positivos y verdaderos negativos?\n",
    "  - **Threshold**: ¿Es acaso el umbral por defecto del modelo el mejor para las predicciones?\n",
    "  - **Feature Importance**: ¿Cuáles son las variables con mejor desempeño? ¿A qué podría deberse esto?\n",
    "  - **Learning Curve**: ¿El modelo presenta algún problema?\n",
    "\n",
    "  [4 puntos]"
   ]
  },
  {
   "cell_type": "markdown",
   "metadata": {
    "id": "qY85nrViYROF"
   },
   "source": [
    "**Respuesta**"
   ]
  },
  {
   "cell_type": "code",
   "execution_count": 15,
   "metadata": {},
   "outputs": [
    {
     "name": "stdout",
     "output_type": "stream",
     "text": [
      "Requirement already satisfied: pycaret in c:\\users\\erojasm\\anaconda3\\lib\\site-packages (2.2.3)\n",
      "Requirement already satisfied: pandas in c:\\users\\erojasm\\anaconda3\\lib\\site-packages (from pycaret) (2.1.4)\n",
      "Requirement already satisfied: numpy>=1.17 in c:\\users\\erojasm\\anaconda3\\lib\\site-packages (from pycaret) (1.26.4)\n",
      "Requirement already satisfied: seaborn in c:\\users\\erojasm\\anaconda3\\lib\\site-packages (from pycaret) (0.13.2)\n",
      "Collecting matplotlib (from pycaret)\n",
      "  Downloading matplotlib-3.10.1-cp312-cp312-win_amd64.whl.metadata (11 kB)\n",
      "Requirement already satisfied: IPython in c:\\users\\erojasm\\anaconda3\\lib\\site-packages (from pycaret) (8.35.0)\n",
      "Requirement already satisfied: joblib in c:\\users\\erojasm\\anaconda3\\lib\\site-packages (from pycaret) (1.3.2)\n",
      "Collecting scikit-learn==0.23.2 (from pycaret)\n",
      "  Downloading scikit-learn-0.23.2.tar.gz (7.2 MB)\n",
      "     ---------------------------------------- 0.0/7.2 MB ? eta -:--:--\n",
      "     ---------------------------------------- 0.0/7.2 MB ? eta -:--:--\n",
      "     ---- ----------------------------------- 0.8/7.2 MB 3.4 MB/s eta 0:00:02\n",
      "     ---------- ----------------------------- 1.8/7.2 MB 3.9 MB/s eta 0:00:02\n",
      "     ------------------- -------------------- 3.4/7.2 MB 5.2 MB/s eta 0:00:01\n",
      "     --------------------------- ------------ 5.0/7.2 MB 5.9 MB/s eta 0:00:01\n",
      "     --------------------------------- ------ 6.0/7.2 MB 6.3 MB/s eta 0:00:01\n",
      "     -------------------------------------- - 6.8/7.2 MB 5.4 MB/s eta 0:00:01\n",
      "     ---------------------------------------- 7.2/7.2 MB 5.3 MB/s eta 0:00:00\n",
      "  Installing build dependencies: started\n",
      "  Installing build dependencies: still running...\n",
      "  Installing build dependencies: finished with status 'error'\n",
      "Note: you may need to restart the kernel to use updated packages.\n"
     ]
    },
    {
     "name": "stderr",
     "output_type": "stream",
     "text": [
      "WARNING: Ignoring invalid distribution ~atplotlib (C:\\Users\\erojasm\\Anaconda3\\Lib\\site-packages)\n",
      "  error: subprocess-exited-with-error\n",
      "  \n",
      "  pip subprocess to install build dependencies did not run successfully.\n",
      "  exit code: 1\n",
      "  \n",
      "  [136 lines of output]\n",
      "  Ignoring numpy: markers 'python_version == \"3.6\" and platform_system != \"AIX\" and platform_python_implementation == \"CPython\"' don't match your environment\n",
      "  Ignoring numpy: markers 'python_version == \"3.6\" and platform_system != \"AIX\" and platform_python_implementation != \"CPython\"' don't match your environment\n",
      "  Ignoring numpy: markers 'python_version == \"3.7\" and platform_system != \"AIX\"' don't match your environment\n",
      "  Ignoring numpy: markers 'python_version == \"3.6\" and platform_system == \"AIX\"' don't match your environment\n",
      "  Ignoring numpy: markers 'python_version == \"3.7\" and platform_system == \"AIX\"' don't match your environment\n",
      "  Ignoring numpy: markers 'python_version >= \"3.8\" and platform_system == \"AIX\"' don't match your environment\n",
      "  Collecting setuptools\n",
      "    Using cached setuptools-80.0.1-py3-none-any.whl.metadata (6.5 kB)\n",
      "  Collecting wheel\n",
      "    Using cached wheel-0.45.1-py3-none-any.whl.metadata (2.3 kB)\n",
      "  Collecting Cython>=0.28.5\n",
      "    Using cached Cython-3.0.12-cp312-cp312-win_amd64.whl.metadata (3.6 kB)\n",
      "  Collecting numpy==1.17.3\n",
      "    Downloading numpy-1.17.3.zip (6.4 MB)\n",
      "       ---------------------------------------- 0.0/6.4 MB ? eta -:--:--\n",
      "       ---------------------------------------- 0.0/6.4 MB ? eta -:--:--\n",
      "       --- ------------------------------------ 0.5/6.4 MB 3.4 MB/s eta 0:00:02\n",
      "       ----------- ---------------------------- 1.8/6.4 MB 5.3 MB/s eta 0:00:01\n",
      "       ---------------- ----------------------- 2.6/6.4 MB 4.3 MB/s eta 0:00:01\n",
      "       --------------------- ------------------ 3.4/6.4 MB 4.3 MB/s eta 0:00:01\n",
      "       ---------------------------- ----------- 4.5/6.4 MB 4.4 MB/s eta 0:00:01\n",
      "       ------------------------------- -------- 5.0/6.4 MB 4.0 MB/s eta 0:00:01\n",
      "       ------------------------------------- -- 6.0/6.4 MB 4.1 MB/s eta 0:00:01\n",
      "       ---------------------------------------- 6.4/6.4 MB 3.9 MB/s eta 0:00:00\n",
      "    Preparing metadata (setup.py): started\n",
      "    Preparing metadata (setup.py): finished with status 'done'\n",
      "  Collecting scipy>=0.19.1\n",
      "    Using cached scipy-1.15.2-cp312-cp312-win_amd64.whl.metadata (60 kB)\n",
      "  INFO: pip is looking at multiple versions of scipy to determine which version is compatible with other requirements. This could take a while.\n",
      "    Downloading scipy-1.15.1-cp312-cp312-win_amd64.whl.metadata (60 kB)\n",
      "    Downloading scipy-1.15.0-cp312-cp312-win_amd64.whl.metadata (60 kB)\n",
      "    Downloading scipy-1.14.1-cp312-cp312-win_amd64.whl.metadata (60 kB)\n",
      "    Downloading scipy-1.14.0-cp312-cp312-win_amd64.whl.metadata (60 kB)\n",
      "    Downloading scipy-1.13.1-cp312-cp312-win_amd64.whl.metadata (60 kB)\n",
      "    Downloading scipy-1.13.0-cp312-cp312-win_amd64.whl.metadata (60 kB)\n",
      "    Downloading scipy-1.12.0-cp312-cp312-win_amd64.whl.metadata (60 kB)\n",
      "  INFO: pip is still looking at multiple versions of scipy to determine which version is compatible with other requirements. This could take a while.\n",
      "    Using cached scipy-1.11.4-cp312-cp312-win_amd64.whl.metadata (60 kB)\n",
      "    Downloading scipy-1.11.3-cp312-cp312-win_amd64.whl.metadata (60 kB)\n",
      "    Downloading scipy-1.11.2-cp312-cp312-win_amd64.whl.metadata (59 kB)\n",
      "    Downloading scipy-1.11.1.tar.gz (56.0 MB)\n",
      "       ---------------------------------------- 0.0/56.0 MB ? eta -:--:--\n",
      "        --------------------------------------- 1.0/56.0 MB 7.2 MB/s eta 0:00:08\n",
      "       - -------------------------------------- 2.6/56.0 MB 7.2 MB/s eta 0:00:08\n",
      "       -- ------------------------------------- 4.2/56.0 MB 7.0 MB/s eta 0:00:08\n",
      "       --- ------------------------------------ 5.5/56.0 MB 6.9 MB/s eta 0:00:08\n",
      "       ---- ----------------------------------- 6.8/56.0 MB 6.8 MB/s eta 0:00:08\n",
      "       ----- ---------------------------------- 8.4/56.0 MB 6.9 MB/s eta 0:00:07\n",
      "       ------ --------------------------------- 9.7/56.0 MB 6.9 MB/s eta 0:00:07\n",
      "       -------- ------------------------------- 11.3/56.0 MB 6.9 MB/s eta 0:00:07\n",
      "       -------- ------------------------------- 12.6/56.0 MB 6.9 MB/s eta 0:00:07\n",
      "       --------- ------------------------------ 13.6/56.0 MB 6.5 MB/s eta 0:00:07\n",
      "       ---------- ----------------------------- 15.2/56.0 MB 6.6 MB/s eta 0:00:07\n",
      "       ----------- ---------------------------- 16.8/56.0 MB 6.7 MB/s eta 0:00:06\n",
      "       ------------ --------------------------- 18.1/56.0 MB 6.7 MB/s eta 0:00:06\n",
      "       ------------- -------------------------- 18.9/56.0 MB 6.5 MB/s eta 0:00:06\n",
      "       -------------- ------------------------- 19.9/56.0 MB 6.4 MB/s eta 0:00:06\n",
      "       -------------- ------------------------- 21.0/56.0 MB 6.2 MB/s eta 0:00:06\n",
      "       --------------- ------------------------ 22.0/56.0 MB 6.2 MB/s eta 0:00:06\n",
      "       ---------------- ----------------------- 23.1/56.0 MB 6.1 MB/s eta 0:00:06\n",
      "       ----------------- ---------------------- 24.1/56.0 MB 6.0 MB/s eta 0:00:06\n",
      "       ----------------- ---------------------- 24.9/56.0 MB 5.9 MB/s eta 0:00:06\n",
      "       ------------------ --------------------- 26.0/56.0 MB 5.9 MB/s eta 0:00:06\n",
      "       ------------------- -------------------- 27.3/56.0 MB 5.8 MB/s eta 0:00:05\n",
      "       -------------------- ------------------- 28.3/56.0 MB 5.8 MB/s eta 0:00:05\n",
      "       -------------------- ------------------- 29.4/56.0 MB 5.7 MB/s eta 0:00:05\n",
      "       --------------------- ------------------ 30.4/56.0 MB 5.7 MB/s eta 0:00:05\n",
      "       ---------------------- ----------------- 31.7/56.0 MB 5.7 MB/s eta 0:00:05\n",
      "       ----------------------- ---------------- 33.0/56.0 MB 5.7 MB/s eta 0:00:05\n",
      "       ------------------------ --------------- 34.3/56.0 MB 5.7 MB/s eta 0:00:04\n",
      "       ------------------------- -------------- 35.1/56.0 MB 5.7 MB/s eta 0:00:04\n",
      "       -------------------------- ------------- 36.4/56.0 MB 5.7 MB/s eta 0:00:04\n",
      "       -------------------------- ------------- 37.7/56.0 MB 5.7 MB/s eta 0:00:04\n",
      "       --------------------------- ------------ 38.8/56.0 MB 5.7 MB/s eta 0:00:04\n",
      "       ---------------------------- ----------- 39.8/56.0 MB 5.7 MB/s eta 0:00:03\n",
      "       ----------------------------- ---------- 40.9/56.0 MB 5.6 MB/s eta 0:00:03\n",
      "       ----------------------------- ---------- 41.9/56.0 MB 5.6 MB/s eta 0:00:03\n",
      "       ------------------------------ --------- 43.3/56.0 MB 5.6 MB/s eta 0:00:03\n",
      "       ------------------------------- -------- 44.3/56.0 MB 5.6 MB/s eta 0:00:03\n",
      "       -------------------------------- ------- 45.6/56.0 MB 5.6 MB/s eta 0:00:02\n",
      "       --------------------------------- ------ 46.7/56.0 MB 5.6 MB/s eta 0:00:02\n",
      "       ---------------------------------- ----- 48.0/56.0 MB 5.6 MB/s eta 0:00:02\n",
      "       ----------------------------------- ---- 49.5/56.0 MB 5.6 MB/s eta 0:00:02\n",
      "       ------------------------------------ --- 50.6/56.0 MB 5.6 MB/s eta 0:00:01\n",
      "       ------------------------------------ --- 51.4/56.0 MB 5.6 MB/s eta 0:00:01\n",
      "       ------------------------------------- -- 52.4/56.0 MB 5.6 MB/s eta 0:00:01\n",
      "       ------------------------------------- -- 53.2/56.0 MB 5.5 MB/s eta 0:00:01\n",
      "       -------------------------------------- - 54.5/56.0 MB 5.5 MB/s eta 0:00:01\n",
      "       ---------------------------------------  55.6/56.0 MB 5.5 MB/s eta 0:00:01\n",
      "       ---------------------------------------- 56.0/56.0 MB 5.4 MB/s eta 0:00:00\n",
      "    Installing build dependencies: started\n",
      "    Installing build dependencies: finished with status 'done'\n",
      "    Getting requirements to build wheel: started\n",
      "    Getting requirements to build wheel: finished with status 'done'\n",
      "    Installing backend dependencies: started\n",
      "    Installing backend dependencies: finished with status 'done'\n",
      "    Preparing metadata (pyproject.toml): started\n",
      "    Preparing metadata (pyproject.toml): finished with status 'error'\n",
      "    error: subprocess-exited-with-error\n",
      "  \n",
      "    Preparing metadata (pyproject.toml) did not run successfully.\n",
      "    exit code: 1\n",
      "  \n",
      "    [21 lines of output]\n",
      "    + meson setup C:\\Users\\erojasm\\AppData\\Local\\Temp\\pip-install-fl890yvg\\scipy_28f271e259bc4a19aafeb34237ea7c48 C:\\Users\\erojasm\\AppData\\Local\\Temp\\pip-install-fl890yvg\\scipy_28f271e259bc4a19aafeb34237ea7c48\\.mesonpy-whhmm4a_\\build -Dbuildtype=release -Db_ndebug=if-release -Db_vscrt=md --native-file=C:\\Users\\erojasm\\AppData\\Local\\Temp\\pip-install-fl890yvg\\scipy_28f271e259bc4a19aafeb34237ea7c48\\.mesonpy-whhmm4a_\\build\\meson-python-native-file.ini\n",
      "    The Meson build system\n",
      "    Version: 1.8.0\n",
      "    Source dir: C:\\Users\\erojasm\\AppData\\Local\\Temp\\pip-install-fl890yvg\\scipy_28f271e259bc4a19aafeb34237ea7c48\n",
      "    Build dir: C:\\Users\\erojasm\\AppData\\Local\\Temp\\pip-install-fl890yvg\\scipy_28f271e259bc4a19aafeb34237ea7c48\\.mesonpy-whhmm4a_\\build\n",
      "    Build type: native build\n",
      "    Project name: SciPy\n",
      "    Project version: 1.11.1\n",
      "    WARNING: Failed to activate VS environment: Could not find C:\\Program Files (x86)\\Microsoft Visual Studio\\Installer\\vswhere.exe\n",
      "  \n",
      "    ..\\..\\meson.build:1:0: ERROR: Unknown compiler(s): [['icl'], ['cl'], ['cc'], ['gcc'], ['clang'], ['clang-cl'], ['pgcc']]\n",
      "    The following exception(s) were encountered:\n",
      "    Running `icl \"\"` gave \"[WinError 2] El sistema no puede encontrar el archivo especificado\"\n",
      "    Running `cl /?` gave \"[WinError 2] El sistema no puede encontrar el archivo especificado\"\n",
      "    Running `cc --version` gave \"[WinError 2] El sistema no puede encontrar el archivo especificado\"\n",
      "    Running `gcc --version` gave \"[WinError 2] El sistema no puede encontrar el archivo especificado\"\n",
      "    Running `clang --version` gave \"[WinError 2] El sistema no puede encontrar el archivo especificado\"\n",
      "    Running `clang-cl /?` gave \"[WinError 2] El sistema no puede encontrar el archivo especificado\"\n",
      "    Running `pgcc --version` gave \"[WinError 2] El sistema no puede encontrar el archivo especificado\"\n",
      "  \n",
      "    A full log can be found at C:\\Users\\erojasm\\AppData\\Local\\Temp\\pip-install-fl890yvg\\scipy_28f271e259bc4a19aafeb34237ea7c48\\.mesonpy-whhmm4a_\\build\\meson-logs\\meson-log.txt\n",
      "    [end of output]\n",
      "  \n",
      "    note: This error originates from a subprocess, and is likely not a problem with pip.\n",
      "  error: metadata-generation-failed\n",
      "  \n",
      "  Encountered error while generating package metadata.\n",
      "  \n",
      "  See above for output.\n",
      "  \n",
      "  note: This is an issue with the package mentioned above, not pip.\n",
      "  hint: See above for details.\n",
      "  [end of output]\n",
      "  \n",
      "  note: This error originates from a subprocess, and is likely not a problem with pip.\n",
      "error: subprocess-exited-with-error\n",
      "\n",
      "pip subprocess to install build dependencies did not run successfully.\n",
      "exit code: 1\n",
      "\n",
      "See above for output.\n",
      "\n",
      "note: This error originates from a subprocess, and is likely not a problem with pip.\n"
     ]
    }
   ],
   "source": [
    "pip install pycaret"
   ]
  },
  {
   "cell_type": "code",
   "execution_count": 14,
   "metadata": {
    "id": "kUCjOjsEYUXL"
   },
   "outputs": [],
   "source": [
    "from pycaret.datasets import get_data\n",
    "# from pycaret.classification import *\n",
    "import os\n",
    "os.environ[\"PYCARET_CUSTOM_LOGGING_LEVEL\"] = \"CRITICAL\"\n",
    "\n",
    "#Continuar código aquí"
   ]
  },
  {
   "cell_type": "markdown",
   "metadata": {
    "id": "K8DSS3u1xMpB"
   },
   "source": [
    "### 2.2 Reducción de dimensionalidad [14 puntos]"
   ]
  },
  {
   "cell_type": "markdown",
   "metadata": {
    "id": "RLu0543p876P"
   },
   "source": [
    "<center>\n",
    "<img src='https://i.kym-cdn.com/photos/images/original/002/258/560/668.gif' width=400 />"
   ]
  },
  {
   "cell_type": "markdown",
   "metadata": {
    "id": "QT-bxJ0txwNF"
   },
   "source": [
    "A pesar de los resultados obtenidos previamente, el manager de Jere ha solicitado el entrenamiento de un modelo de XGBoost utilizando los datos disponibles. Además, se debe proceder a realizar una reducción de dimensionalidad basada en la importancia de las características.\n",
    "\n",
    "Para llevar a cabo esta tarea:\n",
    "\n",
    "1. Inicie entrenando un modelo XGBoost con todas las características disponibles. [2 puntos]\n",
    "\n",
    "2. Una vez el modelo esté entrenado, evalúe y clasifique las características según su importancia de forma descendente. [2 puntos]\n",
    "\n",
    "3. Utilice esta clasificación para ejecutar una búsqueda recursiva de eliminación de características, eliminando progresivamente las menos importantes y evaluando el impacto en el desempeño del modelo hasta identificar las N características más críticas. [2 puntos]\n",
    "\n",
    "4. Con este conjunto reducido de características, entrene un nuevo modelo y evalúe su rendimiento. [2 puntos]\n",
    "\n",
    "5. Posteriormente, responda a las siguientes preguntas para una comprensión más profunda de los cambios y beneficios:\n",
    "\n",
    "  - ¿El rendimiento del modelo con las características seleccionadas es similar al del modelo original? ¿Cómo se comparan en términos de precisión y robustez? [2 puntos]\n",
    "  - ¿Cuáles son los beneficios potenciales de eliminar variables del modelo? Considere factores como la simplificación del modelo, reducción del tiempo de entrenamiento, y mejora en la capacidad de generalización. [2 puntos]\n",
    "  - Comente si el modelo con menor dimensionalidad es más sencillo de explicar. Explique brevemente por qué la eliminación de ciertas características puede facilitar la comprensión y la explicación del comportamiento del modelo. [2 puntos]\n",
    "\n",
    "Notar que con esta metodologia buscamos encontrar un punto entermedio entre número de festures y desempeño. por esto, si observa que al aumentar festires el aumento es despreciable, puede no considerar agregar más features a su modelo."
   ]
  },
  {
   "cell_type": "markdown",
   "metadata": {
    "id": "NHfmK63TuDOS"
   },
   "source": [
    "**Respuesta**"
   ]
  },
  {
   "cell_type": "code",
   "execution_count": null,
   "metadata": {
    "id": "HQwUd_nsuDOe"
   },
   "outputs": [],
   "source": []
  },
  {
   "cell_type": "markdown",
   "metadata": {
    "id": "PTG5cH9r3M9g"
   },
   "source": [
    "### 2.3 Calibración Probabilistica [6 puntos]"
   ]
  },
  {
   "cell_type": "markdown",
   "metadata": {
    "id": "CDL0VqjR7yvb"
   },
   "source": [
    "<center>\n",
    "<img src='https://media2.giphy.com/media/l2Je4Ku0Cx292KWv6/200w.gif?cid=6c09b952y0sihtq9tb6sz8j2023x3zxxp3qx1ocgonkpkblj&ep=v1_gifs_search&rid=200w.gif&ct=g' width=400 />"
   ]
  },
  {
   "cell_type": "markdown",
   "metadata": {
    "id": "qmOKxhAw3sic"
   },
   "source": [
    "Para lograr modelos más modulares, se recomienda realizar una calibración del modelo entrenado anteriormente, con el objetivo de obtener salidas que reflejen mayor modularidad.\n",
    "\n",
    "1. Se solicita que utilice un método de calibración que asegure que las probabilidades generadas incrementen de manera monótona. Una métrica ampliamente utilizada para evaluar la precisión de la calibración de un modelo es el Brier Score. Calcule el Brier Score para el modelo tanto antes como después de la calibración. Esto le permitirá realizar una comparación cuantitativa y determinar si la calibración ha mejorado el rendimiento del modelo. Para más información sobre el Brier Score, puede consultar el siguiente enlace: [Scikit-Learn - Brier Score Loss](https://scikit-learn.org/stable/modules/generated/sklearn.metrics.brier_score_loss.html). [3 puntos]\n",
    "\n",
    "2. Tras la calibración, examine y comente los resultados obtenidos. A su análisis añada una comparación visual de las ideales versus las salidas del modelo original (sin calibrar) y del modelo calibrado. [3 puntos]"
   ]
  },
  {
   "cell_type": "markdown",
   "metadata": {
    "id": "QIiYz_qLuD19"
   },
   "source": [
    "**Respuesta**"
   ]
  },
  {
   "cell_type": "code",
   "execution_count": null,
   "metadata": {
    "id": "l0bfSuiFuD2I"
   },
   "outputs": [],
   "source": []
  },
  {
   "cell_type": "markdown",
   "metadata": {},
   "source": [
    "Mucho éxito!\n",
    "\n",
    "<center>\n",
    "<img src=\"https://i.pinimg.com/originals/55/3d/42/553d42bea9b10e0662a05aa8726fc7f4.gif\" width=300>"
   ]
  }
 ],
 "metadata": {
  "colab": {
   "collapsed_sections": [
    "k-ao0mOU64Ru",
    "Jg_9jBqtgRDO",
    "JdcucZhp-M_0",
    "Qfre1YsSDqla",
    "Bv1HOfcNEPF4",
    "poc9HSNBFeKO",
    "uy5VMU6ae_g6",
    "9bL2m8nNojXM",
    "rD8pQ5Zfq8dE",
    "K8DSS3u1xMpB",
    "PTG5cH9r3M9g"
   ],
   "provenance": []
  },
  "kernelspec": {
   "display_name": "Python 3 (ipykernel)",
   "language": "python",
   "name": "python3"
  },
  "language_info": {
   "codemirror_mode": {
    "name": "ipython",
    "version": 3
   },
   "file_extension": ".py",
   "mimetype": "text/x-python",
   "name": "python",
   "nbconvert_exporter": "python",
   "pygments_lexer": "ipython3",
   "version": "3.12.3"
  }
 },
 "nbformat": 4,
 "nbformat_minor": 4
}
